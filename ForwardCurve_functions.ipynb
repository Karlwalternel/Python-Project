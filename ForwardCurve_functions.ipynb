{
 "cells": [
  {
   "cell_type": "code",
   "execution_count": null,
   "id": "a61f9edb-3717-437a-b044-4970c3789486",
   "metadata": {},
   "outputs": [],
   "source": [
    "# -*- coding: utf-8 -*-\n",
    "\"\"\"\n",
    "Created on Sat Mar 22 00:15:54 2025\n",
    "\n",
    "@author: mekie\n",
    "\"\"\""
   ]
  },
  {
   "cell_type": "code",
   "execution_count": 4,
   "id": "65011732-9e30-43e7-8acc-11e870032105",
   "metadata": {},
   "outputs": [],
   "source": [
    "def tenor_to_date(spot_date, tenor):\n",
    "    # import datetime as dt\n",
    "    import dateutil as dtu\n",
    "    \n",
    "    # Days\n",
    "    if tenor[-1]=='D':\n",
    "        effective_date = spot_date + dtu.relativedelta.relativedelta(days=int(str.replace(tenor, 'D', '')))\n",
    "    # Weeks\n",
    "    if tenor[-1]=='W':\n",
    "        effective_date = spot_date + dtu.relativedelta.relativedelta(days=7*int(str.replace(tenor, 'W', '')))\n",
    "    # Months\n",
    "    if tenor[-1]=='M':\n",
    "        effective_date = spot_date + dtu.relativedelta.relativedelta(months=int(str.replace(tenor, 'M', '')))\n",
    "    # Years\n",
    "    if tenor[-1]=='Y':\n",
    "        effective_date = spot_date + dtu.relativedelta.relativedelta(years=int(str.replace(tenor, 'Y', '')))\n",
    "    return effective_date"
   ]
  },
  {
   "cell_type": "code",
   "execution_count": 6,
   "id": "a0637e90-8618-409a-b75e-14e659c06a43",
   "metadata": {},
   "outputs": [],
   "source": [
    "def adjust_date(unadj_date):\n",
    "    # import datetime as dt\n",
    "    import dateutil as dtu\n",
    "    the_weekday = unadj_date.weekday()\n",
    "    adj_date = unadj_date\n",
    "    if the_weekday==5:\n",
    "        adj_date = unadj_date + dtu.relativedelta.relativedelta(days=2)\n",
    "    if the_weekday==6:\n",
    "        adj_date = unadj_date + dtu.relativedelta.relativedelta(days=1)\n",
    "    return adj_date"
   ]
  },
  {
   "cell_type": "code",
   "execution_count": 8,
   "id": "b5dd20f6-85e3-4fc4-8084-66511ff74ea1",
   "metadata": {},
   "outputs": [],
   "source": [
    "def add_dates(the_DF, computation_date, spot_date, convention = \"ACT/360\"):\n",
    "    the_DF['cmpt_date'] = computation_date\n",
    "    the_DF['spot_date'] = spot_date\n",
    "    the_DF['unadj_date'] = the_DF.apply(lambda x : tenor_to_date(x.spot_date, x.Tenor) , axis=1)\n",
    "    the_DF['adj_date'] = the_DF.apply(lambda x : adjust_date(x.unadj_date) , axis=1)\n",
    "    the_DF['day_diff'] = the_DF.apply(lambda x : (x.adj_date - x.spot_date).days , axis=1)\n",
    "    the_DF['convention'] = the_DF.apply(lambda x : convention , axis=1)\n",
    "    the_DF['alpha'] = the_DF.apply(lambda x : eval(str.replace(x.convention,'ACT','x.day_diff')) , axis=1)\n",
    "    return the_DF"
   ]
  },
  {
   "cell_type": "code",
   "execution_count": 10,
   "id": "a6b275c7-a569-4532-8773-7ac8371a2e45",
   "metadata": {},
   "outputs": [],
   "source": [
    "def get_30_360_daydiff(date1, date2):\n",
    "    import dateutil as dtu\n",
    "    nb_months = dtu.relativedelta.relativedelta(date2,date1).months\n",
    "    daydiff_30_360 = (30 * nb_months) + (date2 - (date1 + dtu.relativedelta.relativedelta(months=nb_months) ) ).days\n",
    "    return daydiff_30_360"
   ]
  }
 ],
 "metadata": {
  "kernelspec": {
   "display_name": "Python [conda env:base] *",
   "language": "python",
   "name": "conda-base-py"
  },
  "language_info": {
   "codemirror_mode": {
    "name": "ipython",
    "version": 3
   },
   "file_extension": ".py",
   "mimetype": "text/x-python",
   "name": "python",
   "nbconvert_exporter": "python",
   "pygments_lexer": "ipython3",
   "version": "3.12.7"
  }
 },
 "nbformat": 4,
 "nbformat_minor": 5
}
